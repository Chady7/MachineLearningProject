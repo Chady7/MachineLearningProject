{
 "cells": [
  {
   "cell_type": "code",
   "execution_count": 14,
   "id": "d0b7947c-d801-4f8b-ab52-7baa73f9603c",
   "metadata": {
    "tags": []
   },
   "outputs": [],
   "source": [
    "def dailyposition(ticker, strike , vol , ticker_hedge, strikeh, volh , date, maturity ):\n",
    "    import yfinance as yf\n",
    "    import matplotlib.pyplot as plt\n",
    "    import pandas as pd\n",
    "    import numpy as np\n",
    "    from scipy.stats import norm\n",
    "\n",
    "    def estimates(ticker, strike, vol, enddata, expiration):\n",
    "\n",
    "\n",
    "        # Function to calculate Black-Scholes Greeks\n",
    "        def black_scholes_greeks(S, K, T, r, sigma):\n",
    "            d1 = (np.log(S / K) + (r + 0.5 * sigma ** 2) * T) / (sigma * np.sqrt(T))\n",
    "            d2 = d1 - sigma * np.sqrt(T)\n",
    "            call_price = S * norm.cdf(d1) - K * np.exp(-r * T) * norm.cdf(d2)\n",
    "            delta = norm.cdf(d1)\n",
    "            gamma = norm.pdf(d1) / (S * sigma * np.sqrt(T))\n",
    "            theta = -(S * norm.pdf(d1) * sigma) / (2 * np.sqrt(T)) - r * K * np.exp(-r * T) * norm.cdf(d1)\n",
    "            return call_price, delta, gamma, theta\n",
    "\n",
    "        # Fetch historical stock prices for AAPL\n",
    "        stock_data = yf.download(ticker, start='2023-01-01', end=enddata)\n",
    "\n",
    "        \n",
    "        # Extract the 'Close' prices and convert index to datetime\n",
    "        stock_prices = stock_data['Close']\n",
    "        stock_volu = stock_data['Volume']\n",
    "        stock_prices.index = pd.to_datetime(stock_prices.index)\n",
    "\n",
    "        # Define option parameters\n",
    "        K = strike  # Strike price of the option\n",
    "        r = 0.01  # Risk-free interest rate\n",
    "        sigma = vol # Volatility of the underlying stock\n",
    "\n",
    "        # Initialize lists to store values\n",
    "        option_prices = []\n",
    "        delta_values = []\n",
    "        gamma_values = []\n",
    "        theta_values = []\n",
    "\n",
    "        for date in stock_prices.index:\n",
    "            # Calculate time to expiration dynamically\n",
    "            T = (pd.Timestamp(expiration) - date).days / 365\n",
    "\n",
    "            # Get the corresponding stock price\n",
    "            S = stock_prices.loc[date]\n",
    "\n",
    "            # Calculate option price and Greeks\n",
    "            call_price, delta, gamma, theta = black_scholes_greeks(S, K, T, r, sigma)\n",
    "\n",
    "            # Append to lists\n",
    "            option_prices.append(call_price)\n",
    "            delta_values.append(delta)\n",
    "            gamma_values.append(gamma)\n",
    "            theta_values.append(theta)\n",
    "\n",
    "\n",
    "\n",
    "        stock_data['Volume'] = stock_data['Volume'] / 1000000\n",
    "        \n",
    "\n",
    "        from sklearn.model_selection import train_test_split\n",
    "        from sklearn.linear_model import LinearRegression\n",
    "        from sklearn.metrics import mean_squared_error\n",
    "\n",
    "        maturity_date = pd.Timestamp(expiration)\n",
    "\n",
    "\n",
    "        opp = pd.DataFrame({'OPrice': option_prices})\n",
    "        delt = pd.DataFrame({'Delta': delta_values})\n",
    "        gam = pd.DataFrame({'Gamma': gamma_values})\n",
    "        thet = pd.DataFrame({'Theta': theta_values})\n",
    "\n",
    "\n",
    "        df = pd.concat([ opp, delt, gam, thet], axis=1)\n",
    "        df.set_index(stock_data.index, inplace=True)\n",
    "        df['volu']=stock_data['Volume']\n",
    "        df['precio']=stock_data['Close']\n",
    "        df['time_to_maturity'] = (maturity_date - df.index).days / 365\n",
    "\n",
    "\n",
    "        df['lggamma'] = df['Gamma'].shift(1)\n",
    "        df['lgdelta'] = df['Delta'].shift(1)\n",
    "        df['lgprice'] = df['OPrice'].shift(1)\n",
    "        df['lgtheta'] = df['Theta'].shift(1)\n",
    "        df['lgvolu'] = df['volu'].shift(1)\n",
    "        df['lgprix'] = df['precio'].shift(1)\n",
    "\n",
    "        df['lggamma2'] = df['Gamma'].shift(2)\n",
    "        df['lgdelta2'] = df['Delta'].shift(2)\n",
    "        df['lgprice2'] = df['OPrice'].shift(2)\n",
    "        df['lgtheta2'] = df['Theta'].shift(2)\n",
    "        df['lgvolu2'] = df['volu'].shift(2)\n",
    "        df['lgprix2'] = df['precio'].shift(2)\n",
    "\n",
    "        \n",
    "\n",
    "        df['lngamma'] = np.log(df['Gamma'])\n",
    "\n",
    "\n",
    "\n",
    "\n",
    "        df['lnlggamma'] = np.log(df['lggamma'])\n",
    "        df['lnlgvolu'] = np.log(df['lgvolu'])\n",
    "        df['lnlggamma2'] = np.log(df['lggamma2'])\n",
    "        df['lnlgvolu2'] = np.log(df['lgvolu2'])\n",
    "\n",
    "\n",
    "\n",
    "        from sklearn.model_selection import train_test_split\n",
    "        from sklearn.linear_model import LinearRegression\n",
    "        from sklearn.metrics import r2_score\n",
    "        import statsmodels.api as sm\n",
    "\n",
    "\n",
    "\n",
    "        df = df.dropna()\n",
    "        df['lnt'] = np.log(df['time_to_maturity'])\n",
    "        X = df[['lnlggamma', 'lnt', 'lgprice', 'lgprix', 'lgdelta', 'lgtheta', 'lgprix2']]\n",
    "        y = df['lngamma']\n",
    "        df.to_excel('output10.xlsx', index=True)\n",
    "\n",
    "        #X_train, X_test, y_train, y_test = train_test_split(X, y, test_size=0.2, random_state=42)\n",
    "        n = len(X)\n",
    "        split_index = int(n * 0.9)\n",
    "        X_train = X.iloc[:split_index]\n",
    "        y_train = y.iloc[:split_index]\n",
    "        X_test = X.iloc[split_index:]\n",
    "        y_test = y.iloc[split_index:]\n",
    "\n",
    "\n",
    "\n",
    "        # Function to fit a model and return AIC, BIC, and R²\n",
    "        def fit_model_and_evaluate(X_train, y_train, X_test, y_test):\n",
    "            model = LinearRegression()\n",
    "            model.fit(X_train, y_train)\n",
    "            y_pred = model.predict(X_test)\n",
    "            r2 = r2_score(y_test, y_pred)\n",
    "\n",
    "            X_train_sm = sm.add_constant(X_train)  # Adds a constant term to the predictor\n",
    "            model_sm = sm.OLS(y_train, X_train_sm).fit()\n",
    "            aic = model_sm.aic\n",
    "            bic = model_sm.bic\n",
    "            return aic, bic, r2\n",
    "\n",
    "        # Initial model with all features\n",
    "        initial_aic, initial_bic, initial_r2 = fit_model_and_evaluate(X_train, y_train, X_test, y_test)\n",
    "        #print(f'Initial model AIC: {initial_aic}, BIC: {initial_bic}, R²: {initial_r2}')\n",
    "\n",
    "        # Evaluate models by removing one feature at a time\n",
    "        results = []\n",
    "        for feature in X.columns:\n",
    "            X_train_reduced = X_train.drop(columns=[feature])\n",
    "            X_test_reduced = X_test.drop(columns=[feature])\n",
    "            aic, bic, r2 = fit_model_and_evaluate(X_train_reduced, y_train, X_test_reduced, y_test)\n",
    "            results.append((feature, aic, bic, r2))\n",
    "\n",
    "        # Find the best model based on AIC, BIC, and R²\n",
    "        best_aic = min(results, key=lambda x: x[1])\n",
    "        best_bic = min(results, key=lambda x: x[2])\n",
    "        best_r2 = max(results, key=lambda x: x[3])\n",
    "\n",
    "        #print(\"\\nBest model results after removing one feature:\")\n",
    "        #print(f\"Best AIC: Remove {best_aic[0]}, AIC: {best_aic[1]}, BIC: {best_aic[2]}, R²: {best_aic[3]}\")\n",
    "        #print(f\"Best BIC: Remove {best_bic[0]}, AIC: {best_bic[1]}, BIC: {best_bic[2]}, R²: {best_bic[3]}\")\n",
    "        #print(f\"Best R²: Remove {best_r2[0]}, AIC: {best_r2[1]}, BIC: {best_r2[2]}, R²: {best_r2[3]}\")\n",
    "\n",
    "        #X = X.drop(columns=['lgdelta'])\n",
    "\n",
    "        #X_train, X_test, y_train, y_test = train_test_split(X, y, test_size=0.2, random_state=42)\n",
    "        X = X.drop(columns=['lgprice'])\n",
    "        X_train = X_train.drop(columns=['lgprice'])\n",
    "        X_test = X_test.drop(columns=['lgprice'])\n",
    "\n",
    "\n",
    "        # Function to fit a model and return AIC, BIC, and R²\n",
    "        def fit_model_and_evaluate(X_train, y_train, X_test, y_test):\n",
    "            model = LinearRegression()\n",
    "            model.fit(X_train, y_train)\n",
    "            y_pred = model.predict(X_test)\n",
    "            r2 = r2_score(y_test, y_pred)\n",
    "\n",
    "            X_train_sm = sm.add_constant(X_train)  # Adds a constant term to the predictor\n",
    "            model_sm = sm.OLS(y_train, X_train_sm).fit()\n",
    "            aic = model_sm.aic\n",
    "            bic = model_sm.bic\n",
    "            return aic, bic, r2\n",
    "\n",
    "        # Initial model with all features\n",
    "        initial_aic, initial_bic, initial_r2 = fit_model_and_evaluate(X_train, y_train, X_test, y_test)\n",
    "        #print(f'Initial model AIC: {initial_aic}, BIC: {initial_bic}, R²: {initial_r2}')\n",
    "\n",
    "        # Evaluate models by removing one feature at a time\n",
    "        results = []\n",
    "        for feature in X.columns:\n",
    "            X_train_reduced = X_train.drop(columns=[feature])\n",
    "            X_test_reduced = X_test.drop(columns=[feature])\n",
    "            aic, bic, r2 = fit_model_and_evaluate(X_train_reduced, y_train, X_test_reduced, y_test)\n",
    "            results.append((feature, aic, bic, r2))\n",
    "\n",
    "        # Find the best model based on AIC, BIC, and R²\n",
    "        best_aic = min(results, key=lambda x: x[1])\n",
    "        best_bic = min(results, key=lambda x: x[2])\n",
    "        best_r2 = max(results, key=lambda x: x[3])\n",
    "\n",
    "        #print(\"\\nBest model results after removing one feature:\")\n",
    "        #print(f\"Best AIC: Remove {best_aic[0]}, AIC: {best_aic[1]}, BIC: {best_aic[2]}, R²: {best_aic[3]}\")\n",
    "        #print(f\"Best BIC: Remove {best_bic[0]}, AIC: {best_bic[1]}, BIC: {best_bic[2]}, R²: {best_bic[3]}\")\n",
    "        #print(f\"Best R²: Remove {best_r2[0]}, AIC: {best_r2[1]}, BIC: {best_r2[2]}, R²: {best_r2[3]}\")\n",
    "\n",
    "        #print(X)\n",
    "        #X_train, X_test, y_train, y_test = train_test_split(X, y, test_size=0.2, random_state=42)\n",
    "\n",
    "        X = X.drop(columns=['lgprix2'])\n",
    "        X_train = X_train.drop(columns=['lgprix2'])\n",
    "        X_test = X_test.drop(columns=['lgprix2'])\n",
    "\n",
    "\n",
    "        # Function to fit a model and return AIC, BIC, and R²\n",
    "        def fit_model_and_evaluate(X_train, y_train, X_test, y_test):\n",
    "            model = LinearRegression()\n",
    "            model.fit(X_train, y_train)\n",
    "            y_pred = model.predict(X_test)\n",
    "            r2 = r2_score(y_test, y_pred)\n",
    "\n",
    "            X_train_sm = sm.add_constant(X_train)  # Adds a constant term to the predictor\n",
    "            model_sm = sm.OLS(y_train, X_train_sm).fit()\n",
    "            aic = model_sm.aic\n",
    "            bic = model_sm.bic\n",
    "            return aic, bic, r2\n",
    "\n",
    "        # Initial model with all features\n",
    "        initial_aic, initial_bic, initial_r2 = fit_model_and_evaluate(X_train, y_train, X_test, y_test)\n",
    "        #print(f'Initial model AIC: {initial_aic}, BIC: {initial_bic}, R²: {initial_r2}')\n",
    "\n",
    "        # Evaluate models by removing one feature at a time\n",
    "        results = []\n",
    "        for feature in X.columns:\n",
    "            X_train_reduced = X_train.drop(columns=[feature])\n",
    "            X_test_reduced = X_test.drop(columns=[feature])\n",
    "            aic, bic, r2 = fit_model_and_evaluate(X_train_reduced, y_train, X_test_reduced, y_test)\n",
    "            results.append((feature, aic, bic, r2))\n",
    "\n",
    "        # Find the best model based on AIC, BIC, and R²\n",
    "        best_aic = min(results, key=lambda x: x[1])\n",
    "        best_bic = min(results, key=lambda x: x[2])\n",
    "        best_r2 = max(results, key=lambda x: x[3])\n",
    "\n",
    "        #print(\"\\nBest model results after removing one feature:\")\n",
    "        #print(f\"Best AIC: Remove {best_aic[0]}, AIC: {best_aic[1]}, BIC: {best_aic[2]}, R²: {best_aic[3]}\")\n",
    "        #print(f\"Best BIC: Remove {best_bic[0]}, AIC: {best_bic[1]}, BIC: {best_bic[2]}, R²: {best_bic[3]}\")\n",
    "        #print(f\"Best R²: Remove {best_r2[0]}, AIC: {best_r2[1]}, BIC: {best_r2[2]}, R²: {best_r2[3]}\")\n",
    "\n",
    "        #X = X.drop(columns=['lgprice'])\n",
    "    #print(X)\n",
    "        #X_train, X_test, y_train, y_test = train_test_split(X, y, test_size=0.2, random_state=42)\n",
    "\n",
    "        X = X.drop(columns=['lgdelta'])\n",
    "        X_train = X_train.drop(columns=['lgdelta'])\n",
    "        X_test = X_test.drop(columns=['lgdelta'])\n",
    "\n",
    "\n",
    "        # Function to fit a model and return AIC, BIC, and R²\n",
    "        def fit_model_and_evaluate(X_train, y_train, X_test, y_test):\n",
    "            model = LinearRegression()\n",
    "            model.fit(X_train, y_train)\n",
    "            y_pred = model.predict(X_test)\n",
    "            r2 = r2_score(y_test, y_pred)\n",
    "\n",
    "            X_train_sm = sm.add_constant(X_train)  # Adds a constant term to the predictor\n",
    "            model_sm = sm.OLS(y_train, X_train_sm).fit()\n",
    "            aic = model_sm.aic\n",
    "            bic = model_sm.bic\n",
    "            return aic, bic, r2\n",
    "\n",
    "        # Initial model with all features\n",
    "        initial_aic, initial_bic, initial_r2 = fit_model_and_evaluate(X_train, y_train, X_test, y_test)\n",
    "        #print(f'Initial model AIC: {initial_aic}, BIC: {initial_bic}, R²: {initial_r2}')\n",
    "\n",
    "        # Evaluate models by removing one feature at a time\n",
    "        results = []\n",
    "        for feature in X.columns:\n",
    "            X_train_reduced = X_train.drop(columns=[feature])\n",
    "            X_test_reduced = X_test.drop(columns=[feature])\n",
    "            aic, bic, r2 = fit_model_and_evaluate(X_train_reduced, y_train, X_test_reduced, y_test)\n",
    "            results.append((feature, aic, bic, r2))\n",
    "\n",
    "        # Find the best model based on AIC, BIC, and R²\n",
    "        best_aic = min(results, key=lambda x: x[1])\n",
    "        best_bic = min(results, key=lambda x: x[2])\n",
    "        best_r2 = max(results, key=lambda x: x[3])\n",
    "\n",
    "\n",
    "        X = X.drop(columns=['lgprix'])\n",
    "        X_train = X_train.drop(columns=['lgprix'])\n",
    "        X_test = X_test.drop(columns=['lgprix'])\n",
    "\n",
    "\n",
    "        # Function to fit a model and return AIC, BIC, and R²\n",
    "        def fit_model_and_evaluate(X_train, y_train, X_test, y_test, showpvalues):\n",
    "            model = LinearRegression()\n",
    "            model.fit(X_train, y_train)\n",
    "            y_pred = model.predict(X_test)\n",
    "            fitted_values = model.predict(X_train)\n",
    "            r2 = r2_score(y_test, y_pred)\n",
    "\n",
    "            X_train_sm = sm.add_constant(X_train)  # Adds a constant term to the predictor\n",
    "            model_sm = sm.OLS(y_train, X_train_sm).fit()\n",
    "            aic = model_sm.aic\n",
    "            bic = model_sm.bic\n",
    "            sigma_hat = np.sqrt(model_sm.mse_resid)\n",
    "            #print(\"SIGMA HAT = \", sigma_hat)  \n",
    "            residuals = y_test - y_pred\n",
    "            residualstrain = y_train - fitted_values\n",
    "            if showpvalues:\n",
    "                pvalues = model_sm.pvalues\n",
    "                print(pvalues)\n",
    "                plt.figure(figsize=(12, 8))\n",
    "                for i, feature in enumerate(X_train.columns):\n",
    "                    plt.subplot(2, 2, i+1)\n",
    "                    plt.scatter(X_train[feature], residualstrain)\n",
    "                    plt.axhline(y=0, color='r', linestyle='--')\n",
    "                    plt.xlabel(feature)\n",
    "                    plt.ylabel('Residuals')\n",
    "                    plt.title(f'Residuals vs {feature}')\n",
    "                    plt.tight_layout(pad=3.0)\n",
    "                plt.figure(figsize=(11, 7))\n",
    "                plt.scatter(fitted_values, residualstrain)\n",
    "                plt.xlabel('Fitted values')\n",
    "                plt.ylabel('Residuals')\n",
    "                plt.title(f'Residuals vs fitted values')\n",
    "\n",
    "            coefs = list()\n",
    "            coefs.append(model.intercept_)\n",
    "            #print(model.intercept_)    \n",
    "            #print(\"Regression Coefficients:\")\n",
    "            for feature, coef in zip(X_train.columns, model.coef_):\n",
    "                #print(f\"{feature}: {coef}\")\n",
    "                coefs.append(coef)\n",
    "\n",
    "\n",
    "\n",
    "            return aic, bic, r2, coefs, sigma_hat\n",
    "\n",
    "        # Initial model with all features\n",
    "        initial_aic, initial_bic, initial_r2, coefs, sigma_hat = fit_model_and_evaluate(X_train, y_train, X_test, y_test, False)\n",
    "        #print(f'Initial model AIC: {initial_aic}, BIC: {initial_bic}, R²: {initial_r2}')\n",
    "\n",
    "        # Evaluate models by removing one feature at a time\n",
    "        results = []\n",
    "        for feature in X.columns:\n",
    "            X_train_reduced = X_train.drop(columns=[feature])\n",
    "            X_test_reduced = X_test.drop(columns=[feature])\n",
    "            aic, bic, r2, _ , _ = fit_model_and_evaluate(X_train_reduced, y_train, X_test_reduced, y_test, False)\n",
    "            results.append((feature, aic, bic, r2))\n",
    "\n",
    "        # Find the best model based on AIC, BIC, and R²\n",
    "        best_aic = min(results, key=lambda x: x[1])\n",
    "        best_bic = min(results, key=lambda x: x[2])\n",
    "        best_r2 = max(results, key=lambda x: x[3])\n",
    "\n",
    "        #print(\"\\nBest model results after removing one feature:\")\n",
    "        #print(f\"Best AIC: Remove {best_aic[0]}, AIC: {best_aic[1]}, BIC: {best_aic[2]}, R²: {best_aic[3]}\")\n",
    "        #print(f\"Best BIC: Remove {best_bic[0]}, AIC: {best_bic[1]}, BIC: {best_bic[2]}, R²: {best_bic[3]}\")\n",
    "        #print(f\"Best R²: Remove {best_r2[0]}, AIC: {best_r2[1]}, BIC: {best_r2[2]}, R²: {best_r2[3]}\")\n",
    "\n",
    "\n",
    "\n",
    "        return coefs, sigma_hat, df.iloc[-1]\n",
    "    \n",
    "    coefs, sigma_hat, lastday = estimates(ticker, strike, vol, date, maturity)\n",
    "\n",
    "    import math\n",
    "\n",
    "    maturity_date = pd.Timestamp(maturity)\n",
    "    time = (maturity_date - pd.Timestamp(date)).days / 365\n",
    "    lgtime=math.log(time)\n",
    "\n",
    "    x_aapl = coefs[0]+coefs[1]*lastday['lngamma']+coefs[2]*lgtime+coefs[3]*lastday['Theta']\n",
    "    gamma_aapl_pred=math.exp(x_aapl)*math.exp(sigma_hat*sigma_hat/2)\n",
    "    gamma_aapl_prev = lastday['Gamma']\n",
    "    delta_aapl_prev = lastday['Delta']\n",
    "\n",
    "    coefs, sigma_hat, lastday = estimates(ticker_hedge, strikeh, volh, date, maturity)\n",
    "\n",
    "    x_msft = coefs[0]+coefs[1]*lastday['lngamma']+coefs[2]*lgtime+coefs[3]*lastday['Theta']\n",
    "    gamma_msft_pred=math.exp(x_msft)*math.exp(sigma_hat*sigma_hat/2)\n",
    "    gamma_msft_prev = lastday['Gamma']\n",
    "    delta_msft_prev = lastday['Delta']\n",
    "\n",
    "    #print(gamma_aapl_pred, gamma_aapl_prev, gamma_msft_pred, gamma_msft_prev)\n",
    "    \n",
    "    from datetime import datetime, timedelta\n",
    "\n",
    "    date_obj = datetime.strptime(date, '%Y-%m-%d')\n",
    "    previous_day = date_obj - timedelta(days=1)\n",
    "    previous_day_str = previous_day.strftime('%Y-%m-%d')\n",
    "\n",
    "    stock_data = yf.download(ticker, start=previous_day_str, end=date)\n",
    "    S= stock_data['Close']\n",
    "\n",
    "    def speed(S, K, T, r, sigma):\n",
    "        d1 = (np.log(S / K) + (r + 0.5 * sigma ** 2) * T) / (sigma * np.sqrt(T))\n",
    "        speed = - ( norm.pdf(d1)) / (S**2 * sigma * np.sqrt(T)) * (d1 / (sigma * np.sqrt(T)) + 1)\n",
    "\n",
    "        return speed\n",
    "\n",
    "    speed_aapl = speed(S, strike, (pd.Timestamp(maturity) - pd.Timestamp(previous_day_str)).days / 365, 0.01, vol)\n",
    "    stock_data = yf.download(ticker_hedge, start=previous_day_str, end=date)\n",
    "    S= stock_data['Close']\n",
    "    speed_msft = speed(S, strikeh, (pd.Timestamp(maturity) - pd.Timestamp(previous_day_str)).days / 365, 0.01, volh)\n",
    "\n",
    "    delta_aapl_pred= delta_aapl_prev+ gamma_aapl_pred * (gamma_aapl_pred - gamma_aapl_prev) / speed_aapl\n",
    "    delta_msft_pred= delta_msft_prev+ gamma_msft_pred * (gamma_msft_pred - gamma_msft_prev) / speed_msft\n",
    "    delta_aapl_pred=delta_aapl_pred.iloc[0]\n",
    "    delta_msft_pred=delta_msft_pred.iloc[0]\n",
    "\n",
    "    \n",
    "    a1, b1, c1 = 1, delta_msft_pred, -delta_aapl_pred\n",
    "    a2, b2, c2 = 0, gamma_msft_pred, -gamma_aapl_pred\n",
    "\n",
    "    A = np.array([[a1, b1], [a2, b2]])\n",
    "    b = np.array([c1, c2])\n",
    "\n",
    "    positions = np.linalg.solve(A, b)\n",
    "\n",
    "    stock_position, msft_position = positions\n",
    "\n",
    "    print(f\"For the {date}, you should hold: {stock_position*100} shares of {ticker} stocks and {msft_position*100} {ticker_hedge} call options with the strike and maturity abovementionned\")\n",
    "    \n",
    "    \n",
    "    return stock_position, msft_position"
   ]
  },
  {
   "cell_type": "markdown",
   "id": "27ceec15-7006-43e9-b80b-95e85a2be226",
   "metadata": {},
   "source": [
    "We finally move on to delta-gamma hedging over a longer period of time. Below you can put the day at which you want to start hedging your call options from stock X of volatility V1 with strike K1 and maturity T and precising the options you want to use for hedging i.e. call options from a stock Y of volatility V2 with strike K2 and same maturity. \n",
    "\n",
    "An example is given below, starting 16th April 2024, with call options from Apple stock with strike 185 and maturity 04th June 2024, hedged with call options of Microsoft stock with strike 410. Volatility details and examples of strike prices can be found either on a excel given of on Yahoo Finance. Suppose you want to hedge the options until the 23rd May.\n"
   ]
  },
  {
   "cell_type": "code",
   "execution_count": 26,
   "id": "a288adfd-f848-4f58-a083-ed5a6dad45f4",
   "metadata": {
    "tags": []
   },
   "outputs": [
    {
     "name": "stderr",
     "output_type": "stream",
     "text": [
      "[*********************100%%**********************]  1 of 1 completed\n",
      "[*********************100%%**********************]  1 of 1 completed\n",
      "[*********************100%%**********************]  1 of 1 completed\n",
      "[*********************100%%**********************]  1 of 1 completed\n",
      "[*********************100%%**********************]  1 of 1 completed\n"
     ]
    },
    {
     "name": "stdout",
     "output_type": "stream",
     "text": [
      "For the 2024-04-16, you should hold: 52.83929701251101 shares of AAPL stocks and -155.7225601985587 MSFT call options with the strike and maturity abovementionned\n",
      "2024-04-16\n"
     ]
    },
    {
     "name": "stderr",
     "output_type": "stream",
     "text": [
      "[*********************100%%**********************]  1 of 1 completed\n",
      "[*********************100%%**********************]  1 of 1 completed\n",
      "[*********************100%%**********************]  1 of 1 completed\n",
      "[*********************100%%**********************]  1 of 1 completed\n"
     ]
    },
    {
     "name": "stdout",
     "output_type": "stream",
     "text": [
      "For the 2024-04-17, you should hold: 53.13503746505916 shares of AAPL stocks and -140.48304260932304 MSFT call options with the strike and maturity abovementionned\n",
      "2024-04-17\n"
     ]
    },
    {
     "name": "stderr",
     "output_type": "stream",
     "text": [
      "[*********************100%%**********************]  1 of 1 completed\n",
      "[*********************100%%**********************]  1 of 1 completed\n",
      "[*********************100%%**********************]  1 of 1 completed\n",
      "[*********************100%%**********************]  1 of 1 completed\n"
     ]
    },
    {
     "name": "stdout",
     "output_type": "stream",
     "text": [
      "For the 2024-04-18, you should hold: 43.44176938182478 shares of AAPL stocks and -129.47919076552722 MSFT call options with the strike and maturity abovementionned\n",
      "2024-04-18\n"
     ]
    },
    {
     "name": "stderr",
     "output_type": "stream",
     "text": [
      "[*********************100%%**********************]  1 of 1 completed\n",
      "[*********************100%%**********************]  1 of 1 completed\n",
      "[*********************100%%**********************]  1 of 1 completed\n",
      "[*********************100%%**********************]  1 of 1 completed\n"
     ]
    },
    {
     "name": "stdout",
     "output_type": "stream",
     "text": [
      "For the 2024-04-19, you should hold: 61.117721558426986 shares of AAPL stocks and -120.69237002448257 MSFT call options with the strike and maturity abovementionned\n",
      "2024-04-19\n"
     ]
    },
    {
     "name": "stderr",
     "output_type": "stream",
     "text": [
      "[*********************100%%**********************]  1 of 1 completed\n",
      "[*********************100%%**********************]  1 of 1 completed\n",
      "[*********************100%%**********************]  1 of 1 completed\n",
      "[*********************100%%**********************]  1 of 1 completed\n"
     ]
    },
    {
     "name": "stdout",
     "output_type": "stream",
     "text": [
      "For the 2024-04-20, you should hold: 32.93193599968687 shares of AAPL stocks and -109.1640646805462 MSFT call options with the strike and maturity abovementionned\n",
      "2024-04-20\n"
     ]
    },
    {
     "name": "stderr",
     "output_type": "stream",
     "text": [
      "[*********************100%%**********************]  1 of 1 completed\n",
      "[*********************100%%**********************]  1 of 1 completed\n",
      "[*********************100%%**********************]  1 of 1 completed\n",
      "[*********************100%%**********************]  1 of 1 completed\n"
     ]
    },
    {
     "name": "stdout",
     "output_type": "stream",
     "text": [
      "For the 2024-04-23, you should hold: 36.447605272696734 shares of AAPL stocks and -107.83821593309129 MSFT call options with the strike and maturity abovementionned\n",
      "2024-04-23\n"
     ]
    },
    {
     "name": "stderr",
     "output_type": "stream",
     "text": [
      "[*********************100%%**********************]  1 of 1 completed\n",
      "[*********************100%%**********************]  1 of 1 completed\n",
      "[*********************100%%**********************]  1 of 1 completed\n",
      "[*********************100%%**********************]  1 of 1 completed\n"
     ]
    },
    {
     "name": "stdout",
     "output_type": "stream",
     "text": [
      "For the 2024-04-24, you should hold: 4.609023323405186 shares of AAPL stocks and -110.81608807247088 MSFT call options with the strike and maturity abovementionned\n",
      "2024-04-24\n"
     ]
    },
    {
     "name": "stderr",
     "output_type": "stream",
     "text": [
      "[*********************100%%**********************]  1 of 1 completed\n",
      "[*********************100%%**********************]  1 of 1 completed\n",
      "[*********************100%%**********************]  1 of 1 completed\n",
      "[*********************100%%**********************]  1 of 1 completed\n"
     ]
    },
    {
     "name": "stdout",
     "output_type": "stream",
     "text": [
      "For the 2024-04-25, you should hold: 27.194853194995872 shares of AAPL stocks and -122.75106074001113 MSFT call options with the strike and maturity abovementionned\n",
      "2024-04-25\n"
     ]
    },
    {
     "name": "stderr",
     "output_type": "stream",
     "text": [
      "[*********************100%%**********************]  1 of 1 completed\n",
      "[*********************100%%**********************]  1 of 1 completed\n",
      "[*********************100%%**********************]  1 of 1 completed\n",
      "[*********************100%%**********************]  1 of 1 completed\n"
     ]
    },
    {
     "name": "stdout",
     "output_type": "stream",
     "text": [
      "For the 2024-04-26, you should hold: 35.13083984114303 shares of AAPL stocks and -130.56678702166244 MSFT call options with the strike and maturity abovementionned\n",
      "2024-04-26\n"
     ]
    },
    {
     "name": "stderr",
     "output_type": "stream",
     "text": [
      "[*********************100%%**********************]  1 of 1 completed\n",
      "[*********************100%%**********************]  1 of 1 completed\n",
      "[*********************100%%**********************]  1 of 1 completed\n",
      "[*********************100%%**********************]  1 of 1 completed\n"
     ]
    },
    {
     "name": "stdout",
     "output_type": "stream",
     "text": [
      "For the 2024-04-27, you should hold: 183.34463490534986 shares of AAPL stocks and -122.17000539575649 MSFT call options with the strike and maturity abovementionned\n",
      "2024-04-27\n"
     ]
    },
    {
     "name": "stderr",
     "output_type": "stream",
     "text": [
      "[*********************100%%**********************]  1 of 1 completed\n",
      "[*********************100%%**********************]  1 of 1 completed\n",
      "[*********************100%%**********************]  1 of 1 completed\n",
      "[*********************100%%**********************]  1 of 1 completed\n"
     ]
    },
    {
     "name": "stdout",
     "output_type": "stream",
     "text": [
      "For the 2024-04-30, you should hold: 44.193647025250485 shares of AAPL stocks and -144.59466125019944 MSFT call options with the strike and maturity abovementionned\n",
      "2024-04-30\n"
     ]
    },
    {
     "name": "stderr",
     "output_type": "stream",
     "text": [
      "[*********************100%%**********************]  1 of 1 completed\n",
      "[*********************100%%**********************]  1 of 1 completed\n",
      "[*********************100%%**********************]  1 of 1 completed\n",
      "[*********************100%%**********************]  1 of 1 completed\n"
     ]
    },
    {
     "name": "stdout",
     "output_type": "stream",
     "text": [
      "For the 2024-05-01, you should hold: 19.53694251062362 shares of AAPL stocks and -151.1941107248725 MSFT call options with the strike and maturity abovementionned\n",
      "2024-05-01\n"
     ]
    },
    {
     "name": "stderr",
     "output_type": "stream",
     "text": [
      "[*********************100%%**********************]  1 of 1 completed\n",
      "[*********************100%%**********************]  1 of 1 completed\n",
      "[*********************100%%**********************]  1 of 1 completed\n",
      "[*********************100%%**********************]  1 of 1 completed\n"
     ]
    },
    {
     "name": "stdout",
     "output_type": "stream",
     "text": [
      "For the 2024-05-02, you should hold: 24.880308525217142 shares of AAPL stocks and -125.78270293275781 MSFT call options with the strike and maturity abovementionned\n",
      "2024-05-02\n"
     ]
    },
    {
     "name": "stderr",
     "output_type": "stream",
     "text": [
      "[*********************100%%**********************]  1 of 1 completed\n",
      "[*********************100%%**********************]  1 of 1 completed\n",
      "[*********************100%%**********************]  1 of 1 completed\n",
      "[*********************100%%**********************]  1 of 1 completed\n"
     ]
    },
    {
     "name": "stdout",
     "output_type": "stream",
     "text": [
      "For the 2024-05-03, you should hold: 30.530663224611875 shares of AAPL stocks and -145.64133642623435 MSFT call options with the strike and maturity abovementionned\n",
      "2024-05-03\n"
     ]
    },
    {
     "name": "stderr",
     "output_type": "stream",
     "text": [
      "[*********************100%%**********************]  1 of 1 completed\n",
      "[*********************100%%**********************]  1 of 1 completed\n",
      "[*********************100%%**********************]  1 of 1 completed\n",
      "[*********************100%%**********************]  1 of 1 completed\n"
     ]
    },
    {
     "name": "stdout",
     "output_type": "stream",
     "text": [
      "For the 2024-05-04, you should hold: 84.39949799238514 shares of AAPL stocks and -166.38310931525191 MSFT call options with the strike and maturity abovementionned\n",
      "2024-05-04\n"
     ]
    },
    {
     "name": "stderr",
     "output_type": "stream",
     "text": [
      "[*********************100%%**********************]  1 of 1 completed\n",
      "[*********************100%%**********************]  1 of 1 completed\n",
      "[*********************100%%**********************]  1 of 1 completed\n",
      "[*********************100%%**********************]  1 of 1 completed\n"
     ]
    },
    {
     "name": "stdout",
     "output_type": "stream",
     "text": [
      "For the 2024-05-07, you should hold: 53.00605970797459 shares of AAPL stocks and -170.25176386989622 MSFT call options with the strike and maturity abovementionned\n",
      "2024-05-07\n"
     ]
    },
    {
     "name": "stderr",
     "output_type": "stream",
     "text": [
      "[*********************100%%**********************]  1 of 1 completed\n",
      "[*********************100%%**********************]  1 of 1 completed\n",
      "[*********************100%%**********************]  1 of 1 completed\n",
      "[*********************100%%**********************]  1 of 1 completed\n"
     ]
    },
    {
     "name": "stdout",
     "output_type": "stream",
     "text": [
      "For the 2024-05-08, you should hold: 27.770111092940265 shares of AAPL stocks and -166.52957492691718 MSFT call options with the strike and maturity abovementionned\n",
      "2024-05-08\n"
     ]
    },
    {
     "name": "stderr",
     "output_type": "stream",
     "text": [
      "[*********************100%%**********************]  1 of 1 completed\n",
      "[*********************100%%**********************]  1 of 1 completed\n",
      "[*********************100%%**********************]  1 of 1 completed\n",
      "[*********************100%%**********************]  1 of 1 completed\n"
     ]
    },
    {
     "name": "stdout",
     "output_type": "stream",
     "text": [
      "For the 2024-05-09, you should hold: 48.02698557932929 shares of AAPL stocks and -167.90712034646845 MSFT call options with the strike and maturity abovementionned\n",
      "2024-05-09\n"
     ]
    },
    {
     "name": "stderr",
     "output_type": "stream",
     "text": [
      "[*********************100%%**********************]  1 of 1 completed\n",
      "[*********************100%%**********************]  1 of 1 completed\n",
      "[*********************100%%**********************]  1 of 1 completed\n",
      "[*********************100%%**********************]  1 of 1 completed\n"
     ]
    },
    {
     "name": "stdout",
     "output_type": "stream",
     "text": [
      "For the 2024-05-10, you should hold: 23.753559364842204 shares of AAPL stocks and -168.67758735816665 MSFT call options with the strike and maturity abovementionned\n",
      "2024-05-10\n"
     ]
    },
    {
     "name": "stderr",
     "output_type": "stream",
     "text": [
      "[*********************100%%**********************]  1 of 1 completed\n",
      "[*********************100%%**********************]  1 of 1 completed\n",
      "[*********************100%%**********************]  1 of 1 completed\n",
      "[*********************100%%**********************]  1 of 1 completed\n"
     ]
    },
    {
     "name": "stdout",
     "output_type": "stream",
     "text": [
      "For the 2024-05-11, you should hold: 86.80051909551005 shares of AAPL stocks and -173.42096975972387 MSFT call options with the strike and maturity abovementionned\n",
      "2024-05-11\n"
     ]
    },
    {
     "name": "stderr",
     "output_type": "stream",
     "text": [
      "[*********************100%%**********************]  1 of 1 completed\n",
      "[*********************100%%**********************]  1 of 1 completed\n",
      "[*********************100%%**********************]  1 of 1 completed\n"
     ]
    },
    {
     "name": "stdout",
     "output_type": "stream",
     "text": [
      "For the 2024-05-14, you should hold: 29.21523204507056 shares of AAPL stocks and -166.33643511703815 MSFT call options with the strike and maturity abovementionned\n",
      "2024-05-14\n"
     ]
    },
    {
     "name": "stderr",
     "output_type": "stream",
     "text": [
      "[*********************100%%**********************]  1 of 1 completed\n",
      "[*********************100%%**********************]  1 of 1 completed\n",
      "[*********************100%%**********************]  1 of 1 completed\n",
      "[*********************100%%**********************]  1 of 1 completed\n"
     ]
    },
    {
     "name": "stdout",
     "output_type": "stream",
     "text": [
      "For the 2024-05-15, you should hold: 39.70649622215349 shares of AAPL stocks and -169.34304671187195 MSFT call options with the strike and maturity abovementionned\n",
      "2024-05-15\n"
     ]
    },
    {
     "name": "stderr",
     "output_type": "stream",
     "text": [
      "[*********************100%%**********************]  1 of 1 completed\n",
      "[*********************100%%**********************]  1 of 1 completed\n",
      "[*********************100%%**********************]  1 of 1 completed\n",
      "[*********************100%%**********************]  1 of 1 completed\n",
      "[*********************100%%**********************]  1 of 1 completed\n"
     ]
    },
    {
     "name": "stdout",
     "output_type": "stream",
     "text": [
      "For the 2024-05-16, you should hold: 66.97291920871511 shares of AAPL stocks and -186.15793276611038 MSFT call options with the strike and maturity abovementionned\n",
      "2024-05-16\n"
     ]
    },
    {
     "name": "stderr",
     "output_type": "stream",
     "text": [
      "[*********************100%%**********************]  1 of 1 completed\n",
      "[*********************100%%**********************]  1 of 1 completed\n",
      "[*********************100%%**********************]  1 of 1 completed\n",
      "[*********************100%%**********************]  1 of 1 completed\n"
     ]
    },
    {
     "name": "stdout",
     "output_type": "stream",
     "text": [
      "For the 2024-05-17, you should hold: 51.80005561961245 shares of AAPL stocks and -173.72708593511157 MSFT call options with the strike and maturity abovementionned\n",
      "2024-05-17\n"
     ]
    },
    {
     "name": "stderr",
     "output_type": "stream",
     "text": [
      "[*********************100%%**********************]  1 of 1 completed\n",
      "[*********************100%%**********************]  1 of 1 completed\n",
      "[*********************100%%**********************]  1 of 1 completed\n",
      "[*********************100%%**********************]  1 of 1 completed\n"
     ]
    },
    {
     "name": "stdout",
     "output_type": "stream",
     "text": [
      "For the 2024-05-18, you should hold: 47.18638598912443 shares of AAPL stocks and -169.97354199782862 MSFT call options with the strike and maturity abovementionned\n",
      "2024-05-18\n"
     ]
    },
    {
     "name": "stderr",
     "output_type": "stream",
     "text": [
      "[*********************100%%**********************]  1 of 1 completed\n",
      "[*********************100%%**********************]  1 of 1 completed\n",
      "[*********************100%%**********************]  1 of 1 completed\n",
      "[*********************100%%**********************]  1 of 1 completed\n"
     ]
    },
    {
     "name": "stdout",
     "output_type": "stream",
     "text": [
      "For the 2024-05-21, you should hold: 82.4650254455608 shares of AAPL stocks and -197.35227819726953 MSFT call options with the strike and maturity abovementionned\n",
      "2024-05-21\n"
     ]
    },
    {
     "name": "stderr",
     "output_type": "stream",
     "text": [
      "[*********************100%%**********************]  1 of 1 completed\n",
      "[*********************100%%**********************]  1 of 1 completed\n",
      "[*********************100%%**********************]  1 of 1 completed\n",
      "[*********************100%%**********************]  1 of 1 completed\n"
     ]
    },
    {
     "name": "stdout",
     "output_type": "stream",
     "text": [
      "For the 2024-05-22, you should hold: 113.33615712288689 shares of AAPL stocks and -224.53036230696605 MSFT call options with the strike and maturity abovementionned\n",
      "2024-05-22\n"
     ]
    },
    {
     "name": "stderr",
     "output_type": "stream",
     "text": [
      "[*********************100%%**********************]  1 of 1 completed\n",
      "[*********************100%%**********************]  1 of 1 completed\n",
      "[*********************100%%**********************]  1 of 1 completed\n"
     ]
    },
    {
     "name": "stdout",
     "output_type": "stream",
     "text": [
      "For the 2024-05-23, you should hold: 170.16726030416802 shares of AAPL stocks and -279.0651062873244 MSFT call options with the strike and maturity abovementionned\n",
      "2024-05-23\n"
     ]
    },
    {
     "data": {
      "image/png": "[encoded data removed]",
      "text/plain": [
       "<Figure size 1000x600 with 1 Axes>"
      ]
     },
     "metadata": {},
     "output_type": "display_data"
    }
   ],
   "source": [
    "from datetime import datetime, timedelta\n",
    "import matplotlib.pyplot as plt\n",
    "start_date_str = '2024-04-16'\n",
    "end_date_str = '2024-05-23'\n",
    "maturity= '2024-06-04'\n",
    "initial_stock = 'AAPL'\n",
    "initial_strike = 185\n",
    "initial_vol = 0.2702\n",
    "\n",
    "hedging_stock = 'MSFT'\n",
    "hedging_strike = 410\n",
    "hedging_vol = 0.2119\n",
    "\n",
    "\n",
    "start_date = datetime.strptime(start_date_str, '%Y-%m-%d')\n",
    "end_date = datetime.strptime(end_date_str, '%Y-%m-%d')\n",
    "\n",
    "dates = []\n",
    "stock_positions = []\n",
    "call_positions = []\n",
    "\n",
    "current_date = start_date\n",
    "while current_date <= end_date:\n",
    "    # Check if the current date is a Saturday or Sunday\n",
    "    if current_date.weekday() in [6, 0]:  # 6: Sunday, 0: Monday\n",
    "        # Skip Sunday or Monday\n",
    "        current_date += timedelta(days=1)\n",
    "        continue\n",
    "    # Calculate daily positions\n",
    "    sp, cp = dailyposition(initial_stock, initial_strike, initial_vol, hedging_stock, hedging_strike, hedging_vol, current_date.strftime('%Y-%m-%d'), maturity)\n",
    "    \n",
    "    # Store the date and positions\n",
    "    dates.append(current_date)\n",
    "    stock_positions.append(sp*100)\n",
    "    call_positions.append(cp*100)\n",
    "    \n",
    "    # Print the current date\n",
    "    print(current_date.strftime('%Y-%m-%d'))\n",
    "    \n",
    "    # Move to the next day\n",
    "    current_date += timedelta(days=1)\n",
    "\n",
    "# Plot the positions against the dates\n",
    "plt.figure(figsize=(10, 6))\n",
    "plt.plot(dates, stock_positions, label='Stock Position')\n",
    "plt.plot(dates, call_positions, label='Call Position')\n",
    "plt.axhline(y=0, color='r', linestyle='--', linewidth=1)  \n",
    "plt.xlabel('Date')\n",
    "plt.ylabel('Position')\n",
    "plt.title('Daily Positions')\n",
    "plt.legend()\n",
    "plt.xticks(rotation=45)  # Rotate x-axis labels for better readability\n",
    "plt.tight_layout()\n",
    "plt.show()\n",
    "    \n",
    "    \n"
   ]
  },
  {
   "cell_type": "code",
   "execution_count": null,
   "id": "53cf7762-aadb-4380-923d-a1152a6a5ca8",
   "metadata": {},
   "outputs": [],
   "source": []
  },
  {
   "cell_type": "code",
   "execution_count": null,
   "id": "848604c3-80a5-4cad-a462-d83de54a1833",
   "metadata": {},
   "outputs": [],
   "source": []
  }
 ],
 "metadata": {
  "kernelspec": {
   "display_name": "Python 3 (ipykernel)",
   "language": "python",
   "name": "python3"
  },
  "language_info": {
   "codemirror_mode": {
    "name": "ipython",
    "version": 3
   },
   "file_extension": ".py",
   "mimetype": "text/x-python",
   "name": "python",
   "nbconvert_exporter": "python",
   "pygments_lexer": "ipython3",
   "version": "3.11.5"
  }
 },
 "nbformat": 4,
 "nbformat_minor": 5
}
